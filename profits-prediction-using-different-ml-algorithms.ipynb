{
 "cells": [
  {
   "attachments": {
    "download.png": {
     "image/png": "[encoded data removed]"
    }
   },
   "cell_type": "markdown",
   "id": "87f6d45e",
   "metadata": {
    "papermill": {
     "duration": 0.011281,
     "end_time": "2023-02-02T14:12:02.870689",
     "exception": false,
     "start_time": "2023-02-02T14:12:02.859408",
     "status": "completed"
    },
    "tags": []
   },
   "source": [
    "![download.png](attachment:download.png)"
   ]
  },
  {
   "cell_type": "markdown",
   "id": "3132430d",
   "metadata": {
    "papermill": {
     "duration": 0.009261,
     "end_time": "2023-02-02T14:12:02.889930",
     "exception": false,
     "start_time": "2023-02-02T14:12:02.880669",
     "status": "completed"
    },
    "tags": []
   },
   "source": [
    "# Company profit prediction using different regresstion algorithms"
   ]
  },
  {
   "cell_type": "markdown",
   "id": "8baaa040",
   "metadata": {
    "papermill": {
     "duration": 0.009088,
     "end_time": "2023-02-02T14:12:02.908533",
     "exception": false,
     "start_time": "2023-02-02T14:12:02.899445",
     "status": "completed"
    },
    "tags": []
   },
   "source": [
    "# 1. Importing libraries "
   ]
  },
  {
   "cell_type": "code",
   "execution_count": 1,
   "id": "5c6dbb20",
   "metadata": {
    "execution": {
     "iopub.execute_input": "2023-02-02T14:12:02.930205Z",
     "iopub.status.busy": "2023-02-02T14:12:02.929461Z",
     "iopub.status.idle": "2023-02-02T14:12:04.554637Z",
     "shell.execute_reply": "2023-02-02T14:12:04.552806Z"
    },
    "papermill": {
     "duration": 1.64039,
     "end_time": "2023-02-02T14:12:04.558302",
     "exception": false,
     "start_time": "2023-02-02T14:12:02.917912",
     "status": "completed"
    },
    "tags": []
   },
   "outputs": [],
   "source": [
    "#basic libraries and visualization\n",
    "import pandas as pd\n",
    "import numpy as np\n",
    "import matplotlib.pyplot as plt\n",
    "import seaborn as sns\n",
    "#sklearn-models\n",
    "from sklearn.linear_model import LinearRegression, Ridge\n",
    "from sklearn.svm import SVR\n",
    "from sklearn.tree import DecisionTreeRegressor\n",
    "from sklearn.ensemble import RandomForestRegressor"
   ]
  },
  {
   "cell_type": "code",
   "execution_count": 2,
   "id": "5ec3355b",
   "metadata": {
    "execution": {
     "iopub.execute_input": "2023-02-02T14:12:04.581552Z",
     "iopub.status.busy": "2023-02-02T14:12:04.581028Z",
     "iopub.status.idle": "2023-02-02T14:12:04.624484Z",
     "shell.execute_reply": "2023-02-02T14:12:04.622885Z"
    },
    "papermill": {
     "duration": 0.059442,
     "end_time": "2023-02-02T14:12:04.627917",
     "exception": false,
     "start_time": "2023-02-02T14:12:04.568475",
     "status": "completed"
    },
    "tags": []
   },
   "outputs": [],
   "source": [
    "dataset=pd.read_csv(\"/kaggle/input/50-startup/50_Startup.csv\")"
   ]
  },
  {
   "cell_type": "code",
   "execution_count": null,
   "id": "f7e74b61",
   "metadata": {
    "papermill": {
     "duration": 0.009609,
     "end_time": "2023-02-02T14:12:04.647730",
     "exception": false,
     "start_time": "2023-02-02T14:12:04.638121",
     "status": "completed"
    },
    "tags": []
   },
   "outputs": [],
   "source": []
  },
  {
   "cell_type": "code",
   "execution_count": 3,
   "id": "4f53e611",
   "metadata": {
    "execution": {
     "iopub.execute_input": "2023-02-02T14:12:04.669597Z",
     "iopub.status.busy": "2023-02-02T14:12:04.669025Z",
     "iopub.status.idle": "2023-02-02T14:12:04.709046Z",
     "shell.execute_reply": "2023-02-02T14:12:04.707662Z"
    },
    "papermill": {
     "duration": 0.060543,
     "end_time": "2023-02-02T14:12:04.718202",
     "exception": false,
     "start_time": "2023-02-02T14:12:04.657659",
     "status": "completed"
    },
    "tags": []
   },
   "outputs": [
    {
     "data": {
      "text/html": [
       "<div>\n",
       "<style scoped>\n",
       "    .dataframe tbody tr th:only-of-type {\n",
       "        vertical-align: middle;\n",
       "    }\n",
       "\n",
       "    .dataframe tbody tr th {\n",
       "        vertical-align: top;\n",
       "    }\n",
       "\n",
       "    .dataframe thead th {\n",
       "        text-align: right;\n",
       "    }\n",
       "</style>\n",
       "<table border=\"1\" class=\"dataframe\">\n",
       "  <thead>\n",
       "    <tr style=\"text-align: right;\">\n",
       "      <th></th>\n",
       "      <th>R&amp;D Spend</th>\n",
       "      <th>Administration</th>\n",
       "      <th>Marketing Spend</th>\n",
       "      <th>Profit</th>\n",
       "    </tr>\n",
       "  </thead>\n",
       "  <tbody>\n",
       "    <tr>\n",
       "      <th>0</th>\n",
       "      <td>165349.20</td>\n",
       "      <td>136897.80</td>\n",
       "      <td>471784.10</td>\n",
       "      <td>192261.83</td>\n",
       "    </tr>\n",
       "    <tr>\n",
       "      <th>1</th>\n",
       "      <td>162597.70</td>\n",
       "      <td>151377.59</td>\n",
       "      <td>443898.53</td>\n",
       "      <td>191792.06</td>\n",
       "    </tr>\n",
       "    <tr>\n",
       "      <th>2</th>\n",
       "      <td>153441.51</td>\n",
       "      <td>101145.55</td>\n",
       "      <td>407934.54</td>\n",
       "      <td>191050.39</td>\n",
       "    </tr>\n",
       "    <tr>\n",
       "      <th>3</th>\n",
       "      <td>144372.41</td>\n",
       "      <td>118671.85</td>\n",
       "      <td>383199.62</td>\n",
       "      <td>182901.99</td>\n",
       "    </tr>\n",
       "    <tr>\n",
       "      <th>4</th>\n",
       "      <td>142107.34</td>\n",
       "      <td>91391.77</td>\n",
       "      <td>366168.42</td>\n",
       "      <td>166187.94</td>\n",
       "    </tr>\n",
       "    <tr>\n",
       "      <th>5</th>\n",
       "      <td>131876.90</td>\n",
       "      <td>99814.71</td>\n",
       "      <td>362861.36</td>\n",
       "      <td>156991.12</td>\n",
       "    </tr>\n",
       "    <tr>\n",
       "      <th>6</th>\n",
       "      <td>134615.46</td>\n",
       "      <td>147198.87</td>\n",
       "      <td>127716.82</td>\n",
       "      <td>156122.51</td>\n",
       "    </tr>\n",
       "    <tr>\n",
       "      <th>7</th>\n",
       "      <td>130298.13</td>\n",
       "      <td>145530.06</td>\n",
       "      <td>323876.68</td>\n",
       "      <td>155752.60</td>\n",
       "    </tr>\n",
       "    <tr>\n",
       "      <th>8</th>\n",
       "      <td>120542.52</td>\n",
       "      <td>148718.95</td>\n",
       "      <td>311613.29</td>\n",
       "      <td>152211.77</td>\n",
       "    </tr>\n",
       "    <tr>\n",
       "      <th>9</th>\n",
       "      <td>123334.88</td>\n",
       "      <td>108679.17</td>\n",
       "      <td>304981.62</td>\n",
       "      <td>149759.96</td>\n",
       "    </tr>\n",
       "    <tr>\n",
       "      <th>10</th>\n",
       "      <td>101913.08</td>\n",
       "      <td>110594.11</td>\n",
       "      <td>229160.95</td>\n",
       "      <td>146121.95</td>\n",
       "    </tr>\n",
       "    <tr>\n",
       "      <th>11</th>\n",
       "      <td>100671.96</td>\n",
       "      <td>91790.61</td>\n",
       "      <td>249744.55</td>\n",
       "      <td>144259.40</td>\n",
       "    </tr>\n",
       "    <tr>\n",
       "      <th>12</th>\n",
       "      <td>93863.75</td>\n",
       "      <td>127320.38</td>\n",
       "      <td>249839.44</td>\n",
       "      <td>141585.52</td>\n",
       "    </tr>\n",
       "    <tr>\n",
       "      <th>13</th>\n",
       "      <td>91992.39</td>\n",
       "      <td>135495.07</td>\n",
       "      <td>252664.93</td>\n",
       "      <td>134307.35</td>\n",
       "    </tr>\n",
       "    <tr>\n",
       "      <th>14</th>\n",
       "      <td>119943.24</td>\n",
       "      <td>156547.42</td>\n",
       "      <td>256512.92</td>\n",
       "      <td>132602.65</td>\n",
       "    </tr>\n",
       "    <tr>\n",
       "      <th>15</th>\n",
       "      <td>114523.61</td>\n",
       "      <td>122616.84</td>\n",
       "      <td>261776.23</td>\n",
       "      <td>129917.04</td>\n",
       "    </tr>\n",
       "    <tr>\n",
       "      <th>16</th>\n",
       "      <td>78013.11</td>\n",
       "      <td>121597.55</td>\n",
       "      <td>264346.06</td>\n",
       "      <td>126992.93</td>\n",
       "    </tr>\n",
       "    <tr>\n",
       "      <th>17</th>\n",
       "      <td>94657.16</td>\n",
       "      <td>145077.58</td>\n",
       "      <td>282574.31</td>\n",
       "      <td>125370.37</td>\n",
       "    </tr>\n",
       "    <tr>\n",
       "      <th>18</th>\n",
       "      <td>91749.16</td>\n",
       "      <td>114175.79</td>\n",
       "      <td>294919.57</td>\n",
       "      <td>124266.90</td>\n",
       "    </tr>\n",
       "    <tr>\n",
       "      <th>19</th>\n",
       "      <td>86419.70</td>\n",
       "      <td>153514.11</td>\n",
       "      <td>0.00</td>\n",
       "      <td>122776.86</td>\n",
       "    </tr>\n",
       "    <tr>\n",
       "      <th>20</th>\n",
       "      <td>76253.86</td>\n",
       "      <td>113867.30</td>\n",
       "      <td>298664.47</td>\n",
       "      <td>118474.03</td>\n",
       "    </tr>\n",
       "    <tr>\n",
       "      <th>21</th>\n",
       "      <td>78389.47</td>\n",
       "      <td>153773.43</td>\n",
       "      <td>299737.29</td>\n",
       "      <td>111313.02</td>\n",
       "    </tr>\n",
       "    <tr>\n",
       "      <th>22</th>\n",
       "      <td>73994.56</td>\n",
       "      <td>122782.75</td>\n",
       "      <td>303319.26</td>\n",
       "      <td>110352.25</td>\n",
       "    </tr>\n",
       "    <tr>\n",
       "      <th>23</th>\n",
       "      <td>67532.53</td>\n",
       "      <td>105751.03</td>\n",
       "      <td>304768.73</td>\n",
       "      <td>108733.99</td>\n",
       "    </tr>\n",
       "    <tr>\n",
       "      <th>24</th>\n",
       "      <td>77044.01</td>\n",
       "      <td>99281.34</td>\n",
       "      <td>140574.81</td>\n",
       "      <td>108552.04</td>\n",
       "    </tr>\n",
       "    <tr>\n",
       "      <th>25</th>\n",
       "      <td>64664.71</td>\n",
       "      <td>139553.16</td>\n",
       "      <td>137962.62</td>\n",
       "      <td>107404.34</td>\n",
       "    </tr>\n",
       "    <tr>\n",
       "      <th>26</th>\n",
       "      <td>75328.87</td>\n",
       "      <td>144135.98</td>\n",
       "      <td>134050.07</td>\n",
       "      <td>105733.54</td>\n",
       "    </tr>\n",
       "    <tr>\n",
       "      <th>27</th>\n",
       "      <td>72107.60</td>\n",
       "      <td>127864.55</td>\n",
       "      <td>353183.81</td>\n",
       "      <td>105008.31</td>\n",
       "    </tr>\n",
       "    <tr>\n",
       "      <th>28</th>\n",
       "      <td>66051.52</td>\n",
       "      <td>182645.56</td>\n",
       "      <td>118148.20</td>\n",
       "      <td>103282.38</td>\n",
       "    </tr>\n",
       "    <tr>\n",
       "      <th>29</th>\n",
       "      <td>65605.48</td>\n",
       "      <td>153032.06</td>\n",
       "      <td>107138.38</td>\n",
       "      <td>101004.64</td>\n",
       "    </tr>\n",
       "    <tr>\n",
       "      <th>30</th>\n",
       "      <td>61994.48</td>\n",
       "      <td>115641.28</td>\n",
       "      <td>91131.24</td>\n",
       "      <td>99937.59</td>\n",
       "    </tr>\n",
       "    <tr>\n",
       "      <th>31</th>\n",
       "      <td>61136.38</td>\n",
       "      <td>152701.92</td>\n",
       "      <td>88218.23</td>\n",
       "      <td>97483.56</td>\n",
       "    </tr>\n",
       "    <tr>\n",
       "      <th>32</th>\n",
       "      <td>63408.86</td>\n",
       "      <td>129219.61</td>\n",
       "      <td>46085.25</td>\n",
       "      <td>97427.84</td>\n",
       "    </tr>\n",
       "    <tr>\n",
       "      <th>33</th>\n",
       "      <td>55493.95</td>\n",
       "      <td>103057.49</td>\n",
       "      <td>214634.81</td>\n",
       "      <td>96778.92</td>\n",
       "    </tr>\n",
       "    <tr>\n",
       "      <th>34</th>\n",
       "      <td>46426.07</td>\n",
       "      <td>157693.92</td>\n",
       "      <td>210797.67</td>\n",
       "      <td>96712.80</td>\n",
       "    </tr>\n",
       "    <tr>\n",
       "      <th>35</th>\n",
       "      <td>46014.02</td>\n",
       "      <td>85047.44</td>\n",
       "      <td>205517.64</td>\n",
       "      <td>96479.51</td>\n",
       "    </tr>\n",
       "    <tr>\n",
       "      <th>36</th>\n",
       "      <td>28663.76</td>\n",
       "      <td>127056.21</td>\n",
       "      <td>201126.82</td>\n",
       "      <td>90708.19</td>\n",
       "    </tr>\n",
       "    <tr>\n",
       "      <th>37</th>\n",
       "      <td>44069.95</td>\n",
       "      <td>51283.14</td>\n",
       "      <td>197029.42</td>\n",
       "      <td>89949.14</td>\n",
       "    </tr>\n",
       "    <tr>\n",
       "      <th>38</th>\n",
       "      <td>20229.59</td>\n",
       "      <td>65947.93</td>\n",
       "      <td>185265.10</td>\n",
       "      <td>81229.06</td>\n",
       "    </tr>\n",
       "    <tr>\n",
       "      <th>39</th>\n",
       "      <td>38558.51</td>\n",
       "      <td>82982.09</td>\n",
       "      <td>174999.30</td>\n",
       "      <td>81005.76</td>\n",
       "    </tr>\n",
       "    <tr>\n",
       "      <th>40</th>\n",
       "      <td>28754.33</td>\n",
       "      <td>118546.05</td>\n",
       "      <td>172795.67</td>\n",
       "      <td>78239.91</td>\n",
       "    </tr>\n",
       "    <tr>\n",
       "      <th>41</th>\n",
       "      <td>27892.92</td>\n",
       "      <td>84710.77</td>\n",
       "      <td>164470.71</td>\n",
       "      <td>77798.83</td>\n",
       "    </tr>\n",
       "    <tr>\n",
       "      <th>42</th>\n",
       "      <td>23640.93</td>\n",
       "      <td>96189.63</td>\n",
       "      <td>148001.11</td>\n",
       "      <td>71498.49</td>\n",
       "    </tr>\n",
       "    <tr>\n",
       "      <th>43</th>\n",
       "      <td>15505.73</td>\n",
       "      <td>127382.30</td>\n",
       "      <td>35534.17</td>\n",
       "      <td>69758.98</td>\n",
       "    </tr>\n",
       "    <tr>\n",
       "      <th>44</th>\n",
       "      <td>22177.74</td>\n",
       "      <td>154806.14</td>\n",
       "      <td>28334.72</td>\n",
       "      <td>65200.33</td>\n",
       "    </tr>\n",
       "    <tr>\n",
       "      <th>45</th>\n",
       "      <td>1000.23</td>\n",
       "      <td>124153.04</td>\n",
       "      <td>1903.93</td>\n",
       "      <td>64926.08</td>\n",
       "    </tr>\n",
       "    <tr>\n",
       "      <th>46</th>\n",
       "      <td>1315.46</td>\n",
       "      <td>115816.21</td>\n",
       "      <td>297114.46</td>\n",
       "      <td>49490.75</td>\n",
       "    </tr>\n",
       "    <tr>\n",
       "      <th>47</th>\n",
       "      <td>0.00</td>\n",
       "      <td>135426.92</td>\n",
       "      <td>0.00</td>\n",
       "      <td>42559.73</td>\n",
       "    </tr>\n",
       "    <tr>\n",
       "      <th>48</th>\n",
       "      <td>542.05</td>\n",
       "      <td>51743.15</td>\n",
       "      <td>0.00</td>\n",
       "      <td>35673.41</td>\n",
       "    </tr>\n",
       "    <tr>\n",
       "      <th>49</th>\n",
       "      <td>0.00</td>\n",
       "      <td>116983.80</td>\n",
       "      <td>45173.06</td>\n",
       "      <td>14681.40</td>\n",
       "    </tr>\n",
       "  </tbody>\n",
       "</table>\n",
       "</div>"
      ],
      "text/plain": [
       "    R&D Spend  Administration  Marketing Spend     Profit\n",
       "0   165349.20       136897.80        471784.10  192261.83\n",
       "1   162597.70       151377.59        443898.53  191792.06\n",
       "2   153441.51       101145.55        407934.54  191050.39\n",
       "3   144372.41       118671.85        383199.62  182901.99\n",
       "4   142107.34        91391.77        366168.42  166187.94\n",
       "5   131876.90        99814.71        362861.36  156991.12\n",
       "6   134615.46       147198.87        127716.82  156122.51\n",
       "7   130298.13       145530.06        323876.68  155752.60\n",
       "8   120542.52       148718.95        311613.29  152211.77\n",
       "9   123334.88       108679.17        304981.62  149759.96\n",
       "10  101913.08       110594.11        229160.95  146121.95\n",
       "11  100671.96        91790.61        249744.55  144259.40\n",
       "12   93863.75       127320.38        249839.44  141585.52\n",
       "13   91992.39       135495.07        252664.93  134307.35\n",
       "14  119943.24       156547.42        256512.92  132602.65\n",
       "15  114523.61       122616.84        261776.23  129917.04\n",
       "16   78013.11       121597.55        264346.06  126992.93\n",
       "17   94657.16       145077.58        282574.31  125370.37\n",
       "18   91749.16       114175.79        294919.57  124266.90\n",
       "19   86419.70       153514.11             0.00  122776.86\n",
       "20   76253.86       113867.30        298664.47  118474.03\n",
       "21   78389.47       153773.43        299737.29  111313.02\n",
       "22   73994.56       122782.75        303319.26  110352.25\n",
       "23   67532.53       105751.03        304768.73  108733.99\n",
       "24   77044.01        99281.34        140574.81  108552.04\n",
       "25   64664.71       139553.16        137962.62  107404.34\n",
       "26   75328.87       144135.98        134050.07  105733.54\n",
       "27   72107.60       127864.55        353183.81  105008.31\n",
       "28   66051.52       182645.56        118148.20  103282.38\n",
       "29   65605.48       153032.06        107138.38  101004.64\n",
       "30   61994.48       115641.28         91131.24   99937.59\n",
       "31   61136.38       152701.92         88218.23   97483.56\n",
       "32   63408.86       129219.61         46085.25   97427.84\n",
       "33   55493.95       103057.49        214634.81   96778.92\n",
       "34   46426.07       157693.92        210797.67   96712.80\n",
       "35   46014.02        85047.44        205517.64   96479.51\n",
       "36   28663.76       127056.21        201126.82   90708.19\n",
       "37   44069.95        51283.14        197029.42   89949.14\n",
       "38   20229.59        65947.93        185265.10   81229.06\n",
       "39   38558.51        82982.09        174999.30   81005.76\n",
       "40   28754.33       118546.05        172795.67   78239.91\n",
       "41   27892.92        84710.77        164470.71   77798.83\n",
       "42   23640.93        96189.63        148001.11   71498.49\n",
       "43   15505.73       127382.30         35534.17   69758.98\n",
       "44   22177.74       154806.14         28334.72   65200.33\n",
       "45    1000.23       124153.04          1903.93   64926.08\n",
       "46    1315.46       115816.21        297114.46   49490.75\n",
       "47       0.00       135426.92             0.00   42559.73\n",
       "48     542.05        51743.15             0.00   35673.41\n",
       "49       0.00       116983.80         45173.06   14681.40"
      ]
     },
     "execution_count": 3,
     "metadata": {},
     "output_type": "execute_result"
    }
   ],
   "source": [
    "dataset"
   ]
  },
  {
   "cell_type": "raw",
   "id": "0b4c12d3",
   "metadata": {
    "papermill": {
     "duration": 0.011191,
     "end_time": "2023-02-02T14:12:04.741635",
     "exception": false,
     "start_time": "2023-02-02T14:12:04.730444",
     "status": "completed"
    },
    "tags": []
   },
   "source": [
    "# About data:\n",
    "Data is collected from 50 different companys.the dataset consists labels of R&D spend, administration,Marketing spend and profits"
   ]
  },
  {
   "cell_type": "code",
   "execution_count": 4,
   "id": "e6bec7f8",
   "metadata": {
    "execution": {
     "iopub.execute_input": "2023-02-02T14:12:04.765716Z",
     "iopub.status.busy": "2023-02-02T14:12:04.764884Z",
     "iopub.status.idle": "2023-02-02T14:12:04.790641Z",
     "shell.execute_reply": "2023-02-02T14:12:04.789118Z"
    },
    "papermill": {
     "duration": 0.041415,
     "end_time": "2023-02-02T14:12:04.793895",
     "exception": false,
     "start_time": "2023-02-02T14:12:04.752480",
     "status": "completed"
    },
    "tags": []
   },
   "outputs": [
    {
     "name": "stdout",
     "output_type": "stream",
     "text": [
      "<class 'pandas.core.frame.DataFrame'>\n",
      "RangeIndex: 50 entries, 0 to 49\n",
      "Data columns (total 4 columns):\n",
      " #   Column           Non-Null Count  Dtype  \n",
      "---  ------           --------------  -----  \n",
      " 0   R&D Spend        50 non-null     float64\n",
      " 1   Administration   50 non-null     float64\n",
      " 2   Marketing Spend  50 non-null     float64\n",
      " 3   Profit           50 non-null     float64\n",
      "dtypes: float64(4)\n",
      "memory usage: 1.7 KB\n"
     ]
    }
   ],
   "source": [
    "dataset.info()"
   ]
  },
  {
   "cell_type": "code",
   "execution_count": 5,
   "id": "a1863dbe",
   "metadata": {
    "execution": {
     "iopub.execute_input": "2023-02-02T14:12:04.817774Z",
     "iopub.status.busy": "2023-02-02T14:12:04.817354Z",
     "iopub.status.idle": "2023-02-02T14:12:04.825400Z",
     "shell.execute_reply": "2023-02-02T14:12:04.824207Z"
    },
    "papermill": {
     "duration": 0.02261,
     "end_time": "2023-02-02T14:12:04.827734",
     "exception": false,
     "start_time": "2023-02-02T14:12:04.805124",
     "status": "completed"
    },
    "tags": []
   },
   "outputs": [
    {
     "data": {
      "text/plain": [
       "(50, 4)"
      ]
     },
     "execution_count": 5,
     "metadata": {},
     "output_type": "execute_result"
    }
   ],
   "source": [
    "dataset.shape"
   ]
  },
  {
   "cell_type": "code",
   "execution_count": 6,
   "id": "2aff8511",
   "metadata": {
    "execution": {
     "iopub.execute_input": "2023-02-02T14:12:04.850897Z",
     "iopub.status.busy": "2023-02-02T14:12:04.850491Z",
     "iopub.status.idle": "2023-02-02T14:12:04.859983Z",
     "shell.execute_reply": "2023-02-02T14:12:04.859144Z"
    },
    "papermill": {
     "duration": 0.023813,
     "end_time": "2023-02-02T14:12:04.862124",
     "exception": false,
     "start_time": "2023-02-02T14:12:04.838311",
     "status": "completed"
    },
    "tags": []
   },
   "outputs": [
    {
     "data": {
      "text/plain": [
       "R&D Spend          0\n",
       "Administration     0\n",
       "Marketing Spend    0\n",
       "Profit             0\n",
       "dtype: int64"
      ]
     },
     "execution_count": 6,
     "metadata": {},
     "output_type": "execute_result"
    }
   ],
   "source": [
    "dataset.isnull().sum()"
   ]
  },
  {
   "cell_type": "raw",
   "id": "d2d16d16",
   "metadata": {
    "papermill": {
     "duration": 0.010031,
     "end_time": "2023-02-02T14:12:04.882612",
     "exception": false,
     "start_time": "2023-02-02T14:12:04.872581",
     "status": "completed"
    },
    "tags": []
   },
   "source": [
    "#There is no null missing values in the dataset"
   ]
  },
  {
   "cell_type": "code",
   "execution_count": 7,
   "id": "1fa41d3a",
   "metadata": {
    "execution": {
     "iopub.execute_input": "2023-02-02T14:12:04.905623Z",
     "iopub.status.busy": "2023-02-02T14:12:04.905212Z",
     "iopub.status.idle": "2023-02-02T14:12:04.933733Z",
     "shell.execute_reply": "2023-02-02T14:12:04.932247Z"
    },
    "papermill": {
     "duration": 0.0435,
     "end_time": "2023-02-02T14:12:04.936386",
     "exception": false,
     "start_time": "2023-02-02T14:12:04.892886",
     "status": "completed"
    },
    "tags": []
   },
   "outputs": [
    {
     "data": {
      "text/html": [
       "<div>\n",
       "<style scoped>\n",
       "    .dataframe tbody tr th:only-of-type {\n",
       "        vertical-align: middle;\n",
       "    }\n",
       "\n",
       "    .dataframe tbody tr th {\n",
       "        vertical-align: top;\n",
       "    }\n",
       "\n",
       "    .dataframe thead th {\n",
       "        text-align: right;\n",
       "    }\n",
       "</style>\n",
       "<table border=\"1\" class=\"dataframe\">\n",
       "  <thead>\n",
       "    <tr style=\"text-align: right;\">\n",
       "      <th></th>\n",
       "      <th>R&amp;D Spend</th>\n",
       "      <th>Administration</th>\n",
       "      <th>Marketing Spend</th>\n",
       "      <th>Profit</th>\n",
       "    </tr>\n",
       "  </thead>\n",
       "  <tbody>\n",
       "    <tr>\n",
       "      <th>count</th>\n",
       "      <td>50.000000</td>\n",
       "      <td>50.000000</td>\n",
       "      <td>50.000000</td>\n",
       "      <td>50.000000</td>\n",
       "    </tr>\n",
       "    <tr>\n",
       "      <th>mean</th>\n",
       "      <td>73721.615600</td>\n",
       "      <td>121344.639600</td>\n",
       "      <td>211025.097800</td>\n",
       "      <td>112012.639200</td>\n",
       "    </tr>\n",
       "    <tr>\n",
       "      <th>std</th>\n",
       "      <td>45902.256482</td>\n",
       "      <td>28017.802755</td>\n",
       "      <td>122290.310726</td>\n",
       "      <td>40306.180338</td>\n",
       "    </tr>\n",
       "    <tr>\n",
       "      <th>min</th>\n",
       "      <td>0.000000</td>\n",
       "      <td>51283.140000</td>\n",
       "      <td>0.000000</td>\n",
       "      <td>14681.400000</td>\n",
       "    </tr>\n",
       "    <tr>\n",
       "      <th>25%</th>\n",
       "      <td>39936.370000</td>\n",
       "      <td>103730.875000</td>\n",
       "      <td>129300.132500</td>\n",
       "      <td>90138.902500</td>\n",
       "    </tr>\n",
       "    <tr>\n",
       "      <th>50%</th>\n",
       "      <td>73051.080000</td>\n",
       "      <td>122699.795000</td>\n",
       "      <td>212716.240000</td>\n",
       "      <td>107978.190000</td>\n",
       "    </tr>\n",
       "    <tr>\n",
       "      <th>75%</th>\n",
       "      <td>101602.800000</td>\n",
       "      <td>144842.180000</td>\n",
       "      <td>299469.085000</td>\n",
       "      <td>139765.977500</td>\n",
       "    </tr>\n",
       "    <tr>\n",
       "      <th>max</th>\n",
       "      <td>165349.200000</td>\n",
       "      <td>182645.560000</td>\n",
       "      <td>471784.100000</td>\n",
       "      <td>192261.830000</td>\n",
       "    </tr>\n",
       "  </tbody>\n",
       "</table>\n",
       "</div>"
      ],
      "text/plain": [
       "           R&D Spend  Administration  Marketing Spend         Profit\n",
       "count      50.000000       50.000000        50.000000      50.000000\n",
       "mean    73721.615600   121344.639600    211025.097800  112012.639200\n",
       "std     45902.256482    28017.802755    122290.310726   40306.180338\n",
       "min         0.000000    51283.140000         0.000000   14681.400000\n",
       "25%     39936.370000   103730.875000    129300.132500   90138.902500\n",
       "50%     73051.080000   122699.795000    212716.240000  107978.190000\n",
       "75%    101602.800000   144842.180000    299469.085000  139765.977500\n",
       "max    165349.200000   182645.560000    471784.100000  192261.830000"
      ]
     },
     "execution_count": 7,
     "metadata": {},
     "output_type": "execute_result"
    }
   ],
   "source": [
    "dataset.describe()"
   ]
  },
  {
   "cell_type": "markdown",
   "id": "cbd13da3",
   "metadata": {
    "papermill": {
     "duration": 0.010346,
     "end_time": "2023-02-02T14:12:04.957748",
     "exception": false,
     "start_time": "2023-02-02T14:12:04.947402",
     "status": "completed"
    },
    "tags": []
   },
   "source": [
    "# visualization"
   ]
  },
  {
   "cell_type": "code",
   "execution_count": 8,
   "id": "8231500c",
   "metadata": {
    "execution": {
     "iopub.execute_input": "2023-02-02T14:12:04.980657Z",
     "iopub.status.busy": "2023-02-02T14:12:04.980192Z",
     "iopub.status.idle": "2023-02-02T14:12:05.201438Z",
     "shell.execute_reply": "2023-02-02T14:12:05.199764Z"
    },
    "papermill": {
     "duration": 0.23578,
     "end_time": "2023-02-02T14:12:05.204101",
     "exception": false,
     "start_time": "2023-02-02T14:12:04.968321",
     "status": "completed"
    },
    "tags": []
   },
   "outputs": [
    {
     "name": "stderr",
     "output_type": "stream",
     "text": [
      "/opt/conda/lib/python3.7/site-packages/seaborn/_decorators.py:43: FutureWarning: Pass the following variable as a keyword arg: x. From version 0.12, the only valid positional argument will be `data`, and passing other arguments without an explicit keyword will result in an error or misinterpretation.\n",
      "  FutureWarning\n"
     ]
    },
    {
     "data": {
      "text/plain": [
       "<AxesSubplot:xlabel='R&D Spend'>"
      ]
     },
     "execution_count": 8,
     "metadata": {},
     "output_type": "execute_result"
    },
    {
     "data": {
      "image/png": "[encoded data removed]",
      "text/plain": [
       "<Figure size 432x288 with 1 Axes>"
      ]
     },
     "metadata": {
      "needs_background": "light"
     },
     "output_type": "display_data"
    }
   ],
   "source": [
    "sns.boxplot(dataset['R&D Spend'])"
   ]
  },
  {
   "cell_type": "code",
   "execution_count": 9,
   "id": "2cb4026f",
   "metadata": {
    "execution": {
     "iopub.execute_input": "2023-02-02T14:12:05.229252Z",
     "iopub.status.busy": "2023-02-02T14:12:05.228744Z",
     "iopub.status.idle": "2023-02-02T14:12:05.421558Z",
     "shell.execute_reply": "2023-02-02T14:12:05.420039Z"
    },
    "papermill": {
     "duration": 0.208826,
     "end_time": "2023-02-02T14:12:05.424270",
     "exception": false,
     "start_time": "2023-02-02T14:12:05.215444",
     "status": "completed"
    },
    "tags": []
   },
   "outputs": [
    {
     "name": "stderr",
     "output_type": "stream",
     "text": [
      "/opt/conda/lib/python3.7/site-packages/seaborn/_decorators.py:43: FutureWarning: Pass the following variable as a keyword arg: x. From version 0.12, the only valid positional argument will be `data`, and passing other arguments without an explicit keyword will result in an error or misinterpretation.\n",
      "  FutureWarning\n"
     ]
    },
    {
     "data": {
      "text/plain": [
       "<AxesSubplot:xlabel='Administration'>"
      ]
     },
     "execution_count": 9,
     "metadata": {},
     "output_type": "execute_result"
    },
    {
     "data": {
      "image/png": "[encoded data removed]",
      "text/plain": [
       "<Figure size 432x288 with 1 Axes>"
      ]
     },
     "metadata": {
      "needs_background": "light"
     },
     "output_type": "display_data"
    }
   ],
   "source": [
    "sns.boxplot(dataset['Administration'])"
   ]
  },
  {
   "cell_type": "code",
   "execution_count": 10,
   "id": "76340825",
   "metadata": {
    "execution": {
     "iopub.execute_input": "2023-02-02T14:12:05.449571Z",
     "iopub.status.busy": "2023-02-02T14:12:05.449159Z",
     "iopub.status.idle": "2023-02-02T14:12:05.628412Z",
     "shell.execute_reply": "2023-02-02T14:12:05.626695Z"
    },
    "papermill": {
     "duration": 0.195549,
     "end_time": "2023-02-02T14:12:05.631466",
     "exception": false,
     "start_time": "2023-02-02T14:12:05.435917",
     "status": "completed"
    },
    "tags": []
   },
   "outputs": [
    {
     "name": "stderr",
     "output_type": "stream",
     "text": [
      "/opt/conda/lib/python3.7/site-packages/seaborn/_decorators.py:43: FutureWarning: Pass the following variable as a keyword arg: x. From version 0.12, the only valid positional argument will be `data`, and passing other arguments without an explicit keyword will result in an error or misinterpretation.\n",
      "  FutureWarning\n"
     ]
    },
    {
     "data": {
      "text/plain": [
       "<AxesSubplot:xlabel='Marketing Spend'>"
      ]
     },
     "execution_count": 10,
     "metadata": {},
     "output_type": "execute_result"
    },
    {
     "data": {
      "image/png": "[encoded data removed]",
      "text/plain": [
       "<Figure size 432x288 with 1 Axes>"
      ]
     },
     "metadata": {
      "needs_background": "light"
     },
     "output_type": "display_data"
    }
   ],
   "source": [
    "sns.boxplot(dataset['Marketing Spend'])"
   ]
  },
  {
   "cell_type": "code",
   "execution_count": 11,
   "id": "ab9d755d",
   "metadata": {
    "execution": {
     "iopub.execute_input": "2023-02-02T14:12:05.657710Z",
     "iopub.status.busy": "2023-02-02T14:12:05.657309Z",
     "iopub.status.idle": "2023-02-02T14:12:08.748818Z",
     "shell.execute_reply": "2023-02-02T14:12:08.747515Z"
    },
    "papermill": {
     "duration": 3.108209,
     "end_time": "2023-02-02T14:12:08.751883",
     "exception": false,
     "start_time": "2023-02-02T14:12:05.643674",
     "status": "completed"
    },
    "tags": []
   },
   "outputs": [
    {
     "data": {
      "text/plain": [
       "<seaborn.axisgrid.PairGrid at 0x7fef1b350e50>"
      ]
     },
     "execution_count": 11,
     "metadata": {},
     "output_type": "execute_result"
    },
    {
     "data": {
      "image/png": "[encoded data removed]",
      "text/plain": [
       "<Figure size 720x720 with 20 Axes>"
      ]
     },
     "metadata": {
      "needs_background": "light"
     },
     "output_type": "display_data"
    }
   ],
   "source": [
    "sns.pairplot(dataset)"
   ]
  },
  {
   "cell_type": "markdown",
   "id": "7fa2ec50",
   "metadata": {
    "papermill": {
     "duration": 0.013589,
     "end_time": "2023-02-02T14:12:08.779233",
     "exception": false,
     "start_time": "2023-02-02T14:12:08.765644",
     "status": "completed"
    },
    "tags": []
   },
   "source": [
    "# As we can see that there is no relationship between administration column and profit"
   ]
  },
  {
   "cell_type": "code",
   "execution_count": 12,
   "id": "11e6331c",
   "metadata": {
    "execution": {
     "iopub.execute_input": "2023-02-02T14:12:08.807728Z",
     "iopub.status.busy": "2023-02-02T14:12:08.807254Z",
     "iopub.status.idle": "2023-02-02T14:12:09.109334Z",
     "shell.execute_reply": "2023-02-02T14:12:09.107875Z"
    },
    "papermill": {
     "duration": 0.319456,
     "end_time": "2023-02-02T14:12:09.111911",
     "exception": false,
     "start_time": "2023-02-02T14:12:08.792455",
     "status": "completed"
    },
    "tags": []
   },
   "outputs": [
    {
     "data": {
      "image/png": "[encoded data removed]",
      "text/plain": [
       "<Figure size 432x288 with 2 Axes>"
      ]
     },
     "metadata": {
      "needs_background": "light"
     },
     "output_type": "display_data"
    }
   ],
   "source": [
    "sns.heatmap(dataset.corr(),annot=True,cmap='Reds')\n",
    "plt.show()"
   ]
  },
  {
   "cell_type": "code",
   "execution_count": 13,
   "id": "04994c76",
   "metadata": {
    "execution": {
     "iopub.execute_input": "2023-02-02T14:12:09.140985Z",
     "iopub.status.busy": "2023-02-02T14:12:09.140505Z",
     "iopub.status.idle": "2023-02-02T14:12:09.347641Z",
     "shell.execute_reply": "2023-02-02T14:12:09.346051Z"
    },
    "papermill": {
     "duration": 0.225122,
     "end_time": "2023-02-02T14:12:09.350390",
     "exception": false,
     "start_time": "2023-02-02T14:12:09.125268",
     "status": "completed"
    },
    "tags": []
   },
   "outputs": [
    {
     "data": {
      "image/png": "[encoded data removed]",
      "text/plain": [
       "<Figure size 504x504 with 1 Axes>"
      ]
     },
     "metadata": {
      "needs_background": "light"
     },
     "output_type": "display_data"
    }
   ],
   "source": [
    "outliers = ['Profit']\n",
    "plt.rcParams['figure.figsize'] = [7,7]\n",
    "sns.boxplot(data=dataset[outliers], orient=\"v\", palette=\"Set2\" , width=0.7) # orient = \"v\" : vertical boxplot , \n",
    "                                                                            # orient = \"h\" : hotrizontal boxplot\n",
    "plt.title(\"Outliers Variable Distribution\")\n",
    "plt.ylabel(\"Profit Range\")\n",
    "plt.xlabel(\"Continuous Variable\")\n",
    "\n",
    "plt.show()"
   ]
  },
  {
   "cell_type": "markdown",
   "id": "f4ed7b30",
   "metadata": {
    "papermill": {
     "duration": 0.013272,
     "end_time": "2023-02-02T14:12:09.377501",
     "exception": false,
     "start_time": "2023-02-02T14:12:09.364229",
     "status": "completed"
    },
    "tags": []
   },
   "source": [
    "# convertining categorical features into numeric values"
   ]
  },
  {
   "cell_type": "code",
   "execution_count": 14,
   "id": "e219540d",
   "metadata": {
    "execution": {
     "iopub.execute_input": "2023-02-02T14:12:09.407113Z",
     "iopub.status.busy": "2023-02-02T14:12:09.406638Z",
     "iopub.status.idle": "2023-02-02T14:12:09.413939Z",
     "shell.execute_reply": "2023-02-02T14:12:09.412446Z"
    },
    "papermill": {
     "duration": 0.025262,
     "end_time": "2023-02-02T14:12:09.416726",
     "exception": false,
     "start_time": "2023-02-02T14:12:09.391464",
     "status": "completed"
    },
    "tags": []
   },
   "outputs": [],
   "source": [
    "X=dataset.iloc[:,:-1].values\n",
    "y=dataset.iloc[:,3].values"
   ]
  },
  {
   "cell_type": "code",
   "execution_count": 15,
   "id": "b181fcd4",
   "metadata": {
    "execution": {
     "iopub.execute_input": "2023-02-02T14:12:09.446165Z",
     "iopub.status.busy": "2023-02-02T14:12:09.445717Z",
     "iopub.status.idle": "2023-02-02T14:12:09.461363Z",
     "shell.execute_reply": "2023-02-02T14:12:09.459870Z"
    },
    "papermill": {
     "duration": 0.033561,
     "end_time": "2023-02-02T14:12:09.464230",
     "exception": false,
     "start_time": "2023-02-02T14:12:09.430669",
     "status": "completed"
    },
    "tags": []
   },
   "outputs": [
    {
     "data": {
      "text/html": [
       "<div>\n",
       "<style scoped>\n",
       "    .dataframe tbody tr th:only-of-type {\n",
       "        vertical-align: middle;\n",
       "    }\n",
       "\n",
       "    .dataframe tbody tr th {\n",
       "        vertical-align: top;\n",
       "    }\n",
       "\n",
       "    .dataframe thead th {\n",
       "        text-align: right;\n",
       "    }\n",
       "</style>\n",
       "<table border=\"1\" class=\"dataframe\">\n",
       "  <thead>\n",
       "    <tr style=\"text-align: right;\">\n",
       "      <th></th>\n",
       "      <th>0</th>\n",
       "      <th>1</th>\n",
       "      <th>2</th>\n",
       "    </tr>\n",
       "  </thead>\n",
       "  <tbody>\n",
       "    <tr>\n",
       "      <th>0</th>\n",
       "      <td>165349.20</td>\n",
       "      <td>136897.80</td>\n",
       "      <td>47.0</td>\n",
       "    </tr>\n",
       "    <tr>\n",
       "      <th>1</th>\n",
       "      <td>162597.70</td>\n",
       "      <td>151377.59</td>\n",
       "      <td>46.0</td>\n",
       "    </tr>\n",
       "    <tr>\n",
       "      <th>2</th>\n",
       "      <td>153441.51</td>\n",
       "      <td>101145.55</td>\n",
       "      <td>45.0</td>\n",
       "    </tr>\n",
       "    <tr>\n",
       "      <th>3</th>\n",
       "      <td>144372.41</td>\n",
       "      <td>118671.85</td>\n",
       "      <td>44.0</td>\n",
       "    </tr>\n",
       "    <tr>\n",
       "      <th>4</th>\n",
       "      <td>142107.34</td>\n",
       "      <td>91391.77</td>\n",
       "      <td>43.0</td>\n",
       "    </tr>\n",
       "  </tbody>\n",
       "</table>\n",
       "</div>"
      ],
      "text/plain": [
       "           0          1     2\n",
       "0  165349.20  136897.80  47.0\n",
       "1  162597.70  151377.59  46.0\n",
       "2  153441.51  101145.55  45.0\n",
       "3  144372.41  118671.85  44.0\n",
       "4  142107.34   91391.77  43.0"
      ]
     },
     "execution_count": 15,
     "metadata": {},
     "output_type": "execute_result"
    }
   ],
   "source": [
    "\n",
    "from sklearn.preprocessing import LabelEncoder\n",
    "encode=LabelEncoder()\n",
    "X[:,2]=encode.fit_transform(X[:,2])\n",
    "X1=pd.DataFrame(X)\n",
    "X1.head()\n"
   ]
  },
  {
   "cell_type": "markdown",
   "id": "baa2abd6",
   "metadata": {
    "papermill": {
     "duration": 0.013478,
     "end_time": "2023-02-02T14:12:09.491633",
     "exception": false,
     "start_time": "2023-02-02T14:12:09.478155",
     "status": "completed"
    },
    "tags": []
   },
   "source": [
    "# Splitting the data into train-test split"
   ]
  },
  {
   "cell_type": "code",
   "execution_count": 16,
   "id": "956a0564",
   "metadata": {
    "execution": {
     "iopub.execute_input": "2023-02-02T14:12:09.521457Z",
     "iopub.status.busy": "2023-02-02T14:12:09.520893Z",
     "iopub.status.idle": "2023-02-02T14:12:09.530931Z",
     "shell.execute_reply": "2023-02-02T14:12:09.529869Z"
    },
    "papermill": {
     "duration": 0.028037,
     "end_time": "2023-02-02T14:12:09.533280",
     "exception": false,
     "start_time": "2023-02-02T14:12:09.505243",
     "status": "completed"
    },
    "tags": []
   },
   "outputs": [
    {
     "data": {
      "text/plain": [
       "array([[1.3029813e+05, 1.4553006e+05, 4.0000000e+01],\n",
       "       [1.1994324e+05, 1.5654742e+05, 2.8000000e+01],\n",
       "       [1.0002300e+03, 1.2415304e+05, 1.0000000e+00],\n",
       "       [5.4205000e+02, 5.1743150e+04, 0.0000000e+00],\n",
       "       [6.5605480e+04, 1.5303206e+05, 8.0000000e+00],\n",
       "       [1.1452361e+05, 1.2261684e+05, 2.9000000e+01],\n",
       "       [6.1994480e+04, 1.1564128e+05, 7.0000000e+00],\n",
       "       [6.3408860e+04, 1.2921961e+05, 5.0000000e+00],\n",
       "       [7.8013110e+04, 1.2159755e+05, 3.0000000e+01],\n",
       "       [2.3640930e+04, 9.6189630e+04, 1.4000000e+01],\n",
       "       [7.6253860e+04, 1.1386730e+05, 3.4000000e+01],\n",
       "       [1.5505730e+04, 1.2738230e+05, 3.0000000e+00],\n",
       "       [1.2054252e+05, 1.4871895e+05, 3.9000000e+01],\n",
       "       [9.1992390e+04, 1.3549507e+05, 2.7000000e+01],\n",
       "       [6.4664710e+04, 1.3955316e+05, 1.2000000e+01],\n",
       "       [1.3187690e+05, 9.9814710e+04, 4.2000000e+01],\n",
       "       [9.4657160e+04, 1.4507758e+05, 3.1000000e+01],\n",
       "       [2.8754330e+04, 1.1854605e+05, 1.6000000e+01],\n",
       "       [0.0000000e+00, 1.1698380e+05, 4.0000000e+00],\n",
       "       [1.6259770e+05, 1.5137759e+05, 4.6000000e+01],\n",
       "       [9.3863750e+04, 1.2732038e+05, 2.6000000e+01],\n",
       "       [4.4069950e+04, 5.1283140e+04, 1.9000000e+01],\n",
       "       [7.7044010e+04, 9.9281340e+04, 1.3000000e+01],\n",
       "       [1.3461546e+05, 1.4719887e+05, 1.0000000e+01],\n",
       "       [6.7532530e+04, 1.0575103e+05, 3.7000000e+01],\n",
       "       [2.8663760e+04, 1.2705621e+05, 2.0000000e+01],\n",
       "       [7.8389470e+04, 1.5377343e+05, 3.5000000e+01],\n",
       "       [8.6419700e+04, 1.5351411e+05, 0.0000000e+00],\n",
       "       [1.2333488e+05, 1.0867917e+05, 3.8000000e+01],\n",
       "       [3.8558510e+04, 8.2982090e+04, 1.7000000e+01],\n",
       "       [1.3154600e+03, 1.1581621e+05, 3.3000000e+01],\n",
       "       [1.4437241e+05, 1.1867185e+05, 4.4000000e+01],\n",
       "       [1.6534920e+05, 1.3689780e+05, 4.7000000e+01],\n",
       "       [0.0000000e+00, 1.3542692e+05, 0.0000000e+00],\n",
       "       [2.2177740e+04, 1.5480614e+05, 2.0000000e+00]])"
      ]
     },
     "execution_count": 16,
     "metadata": {},
     "output_type": "execute_result"
    }
   ],
   "source": [
    "from sklearn.model_selection import train_test_split\n",
    "\n",
    "x_train,x_test,y_train,y_test = train_test_split(X,y,train_size=0.7,random_state=0)\n",
    "x_train"
   ]
  },
  {
   "cell_type": "markdown",
   "id": "b6ae4827",
   "metadata": {
    "papermill": {
     "duration": 0.013991,
     "end_time": "2023-02-02T14:12:09.561206",
     "exception": false,
     "start_time": "2023-02-02T14:12:09.547215",
     "status": "completed"
    },
    "tags": []
   },
   "source": [
    "# constructing different regresstion alogorithms"
   ]
  },
  {
   "cell_type": "markdown",
   "id": "8d40bbcb",
   "metadata": {
    "papermill": {
     "duration": 0.013847,
     "end_time": "2023-02-02T14:12:09.589495",
     "exception": false,
     "start_time": "2023-02-02T14:12:09.575648",
     "status": "completed"
    },
    "tags": []
   },
   "source": [
    "# 1. MultiLinear regresstion"
   ]
  },
  {
   "cell_type": "code",
   "execution_count": 17,
   "id": "50fa1c40",
   "metadata": {
    "execution": {
     "iopub.execute_input": "2023-02-02T14:12:09.619812Z",
     "iopub.status.busy": "2023-02-02T14:12:09.619415Z",
     "iopub.status.idle": "2023-02-02T14:12:09.644566Z",
     "shell.execute_reply": "2023-02-02T14:12:09.643465Z"
    },
    "papermill": {
     "duration": 0.043162,
     "end_time": "2023-02-02T14:12:09.646851",
     "exception": false,
     "start_time": "2023-02-02T14:12:09.603689",
     "status": "completed"
    },
    "tags": []
   },
   "outputs": [
    {
     "data": {
      "text/plain": [
       "LinearRegression()"
      ]
     },
     "execution_count": 17,
     "metadata": {},
     "output_type": "execute_result"
    }
   ],
   "source": [
    "from sklearn.linear_model import LinearRegression\n",
    "model = LinearRegression()\n",
    "model.fit(x_train, y_train)\n"
   ]
  },
  {
   "cell_type": "code",
   "execution_count": 18,
   "id": "feab1d8d",
   "metadata": {
    "execution": {
     "iopub.execute_input": "2023-02-02T14:12:09.677937Z",
     "iopub.status.busy": "2023-02-02T14:12:09.677490Z",
     "iopub.status.idle": "2023-02-02T14:12:09.685604Z",
     "shell.execute_reply": "2023-02-02T14:12:09.684296Z"
    },
    "papermill": {
     "duration": 0.025829,
     "end_time": "2023-02-02T14:12:09.687706",
     "exception": false,
     "start_time": "2023-02-02T14:12:09.661877",
     "status": "completed"
    },
    "tags": []
   },
   "outputs": [
    {
     "data": {
      "text/plain": [
       "array([103365.65430448, 132409.63159464, 133669.58924177,  71596.33493623,\n",
       "       179574.8809234 , 114195.96899299,  65656.85292429,  97938.81018901,\n",
       "       114412.29898539, 169772.36831918,  96050.9051499 ,  87515.25731045,\n",
       "       110242.6075272 ,  90000.89195708, 127479.23515393])"
      ]
     },
     "execution_count": 18,
     "metadata": {},
     "output_type": "execute_result"
    }
   ],
   "source": [
    "\n",
    "y_pred = model.predict(x_test)\n",
    "y_pred"
   ]
  },
  {
   "cell_type": "code",
   "execution_count": 19,
   "id": "d2f9b67b",
   "metadata": {
    "execution": {
     "iopub.execute_input": "2023-02-02T14:12:09.718164Z",
     "iopub.status.busy": "2023-02-02T14:12:09.717711Z",
     "iopub.status.idle": "2023-02-02T14:12:09.732767Z",
     "shell.execute_reply": "2023-02-02T14:12:09.731155Z"
    },
    "papermill": {
     "duration": 0.033112,
     "end_time": "2023-02-02T14:12:09.735231",
     "exception": false,
     "start_time": "2023-02-02T14:12:09.702119",
     "status": "completed"
    },
    "tags": []
   },
   "outputs": [
    {
     "data": {
      "text/html": [
       "<div>\n",
       "<style scoped>\n",
       "    .dataframe tbody tr th:only-of-type {\n",
       "        vertical-align: middle;\n",
       "    }\n",
       "\n",
       "    .dataframe tbody tr th {\n",
       "        vertical-align: top;\n",
       "    }\n",
       "\n",
       "    .dataframe thead th {\n",
       "        text-align: right;\n",
       "    }\n",
       "</style>\n",
       "<table border=\"1\" class=\"dataframe\">\n",
       "  <thead>\n",
       "    <tr style=\"text-align: right;\">\n",
       "      <th></th>\n",
       "      <th>Predicted value</th>\n",
       "      <th>Actual Value</th>\n",
       "    </tr>\n",
       "  </thead>\n",
       "  <tbody>\n",
       "    <tr>\n",
       "      <th>0</th>\n",
       "      <td>103365.654304</td>\n",
       "      <td>103282.38</td>\n",
       "    </tr>\n",
       "    <tr>\n",
       "      <th>1</th>\n",
       "      <td>132409.631595</td>\n",
       "      <td>144259.40</td>\n",
       "    </tr>\n",
       "    <tr>\n",
       "      <th>2</th>\n",
       "      <td>133669.589242</td>\n",
       "      <td>146121.95</td>\n",
       "    </tr>\n",
       "    <tr>\n",
       "      <th>3</th>\n",
       "      <td>71596.334936</td>\n",
       "      <td>77798.83</td>\n",
       "    </tr>\n",
       "    <tr>\n",
       "      <th>4</th>\n",
       "      <td>179574.880923</td>\n",
       "      <td>191050.39</td>\n",
       "    </tr>\n",
       "    <tr>\n",
       "      <th>5</th>\n",
       "      <td>114195.968993</td>\n",
       "      <td>105008.31</td>\n",
       "    </tr>\n",
       "    <tr>\n",
       "      <th>6</th>\n",
       "      <td>65656.852924</td>\n",
       "      <td>81229.06</td>\n",
       "    </tr>\n",
       "    <tr>\n",
       "      <th>7</th>\n",
       "      <td>97938.810189</td>\n",
       "      <td>97483.56</td>\n",
       "    </tr>\n",
       "    <tr>\n",
       "      <th>8</th>\n",
       "      <td>114412.298985</td>\n",
       "      <td>110352.25</td>\n",
       "    </tr>\n",
       "    <tr>\n",
       "      <th>9</th>\n",
       "      <td>169772.368319</td>\n",
       "      <td>166187.94</td>\n",
       "    </tr>\n",
       "    <tr>\n",
       "      <th>10</th>\n",
       "      <td>96050.905150</td>\n",
       "      <td>96778.92</td>\n",
       "    </tr>\n",
       "    <tr>\n",
       "      <th>11</th>\n",
       "      <td>87515.257310</td>\n",
       "      <td>96479.51</td>\n",
       "    </tr>\n",
       "    <tr>\n",
       "      <th>12</th>\n",
       "      <td>110242.607527</td>\n",
       "      <td>105733.54</td>\n",
       "    </tr>\n",
       "    <tr>\n",
       "      <th>13</th>\n",
       "      <td>90000.891957</td>\n",
       "      <td>96712.80</td>\n",
       "    </tr>\n",
       "    <tr>\n",
       "      <th>14</th>\n",
       "      <td>127479.235154</td>\n",
       "      <td>124266.90</td>\n",
       "    </tr>\n",
       "  </tbody>\n",
       "</table>\n",
       "</div>"
      ],
      "text/plain": [
       "    Predicted value  Actual Value\n",
       "0     103365.654304     103282.38\n",
       "1     132409.631595     144259.40\n",
       "2     133669.589242     146121.95\n",
       "3      71596.334936      77798.83\n",
       "4     179574.880923     191050.39\n",
       "5     114195.968993     105008.31\n",
       "6      65656.852924      81229.06\n",
       "7      97938.810189      97483.56\n",
       "8     114412.298985     110352.25\n",
       "9     169772.368319     166187.94\n",
       "10     96050.905150      96778.92\n",
       "11     87515.257310      96479.51\n",
       "12    110242.607527     105733.54\n",
       "13     90000.891957      96712.80\n",
       "14    127479.235154     124266.90"
      ]
     },
     "execution_count": 19,
     "metadata": {},
     "output_type": "execute_result"
    }
   ],
   "source": [
    "dataset = pd.DataFrame(data={'Predicted value':y_pred.flatten(),'Actual Value':y_test.flatten()})\n",
    "dataset"
   ]
  },
  {
   "cell_type": "code",
   "execution_count": 20,
   "id": "fa0cd880",
   "metadata": {
    "execution": {
     "iopub.execute_input": "2023-02-02T14:12:09.766534Z",
     "iopub.status.busy": "2023-02-02T14:12:09.766104Z",
     "iopub.status.idle": "2023-02-02T14:12:09.774237Z",
     "shell.execute_reply": "2023-02-02T14:12:09.773117Z"
    },
    "papermill": {
     "duration": 0.026651,
     "end_time": "2023-02-02T14:12:09.776879",
     "exception": false,
     "start_time": "2023-02-02T14:12:09.750228",
     "status": "completed"
    },
    "tags": []
   },
   "outputs": [
    {
     "name": "stdout",
     "output_type": "stream",
     "text": [
      "Model Score/Accuracy on Testing data 0.9324057207634493\n",
      "Model Score/Accuracy on Training data 0.9506671824404848\n"
     ]
    }
   ],
   "source": [
    "testing_data_model_score = model.score(x_test, y_test)\n",
    "print(\"Model Score/Accuracy on Testing data\",testing_data_model_score)\n",
    "\n",
    "training_data_model_score = model.score(x_train, y_train)\n",
    "print(\"Model Score/Accuracy on Training data\",training_data_model_score)"
   ]
  },
  {
   "cell_type": "markdown",
   "id": "810acd85",
   "metadata": {
    "papermill": {
     "duration": 0.014638,
     "end_time": "2023-02-02T14:12:09.806640",
     "exception": false,
     "start_time": "2023-02-02T14:12:09.792002",
     "status": "completed"
    },
    "tags": []
   },
   "source": [
    "# 2.support vector machine"
   ]
  },
  {
   "cell_type": "code",
   "execution_count": 21,
   "id": "6683eac5",
   "metadata": {
    "execution": {
     "iopub.execute_input": "2023-02-02T14:12:09.840504Z",
     "iopub.status.busy": "2023-02-02T14:12:09.840110Z",
     "iopub.status.idle": "2023-02-02T14:12:09.851487Z",
     "shell.execute_reply": "2023-02-02T14:12:09.850021Z"
    },
    "papermill": {
     "duration": 0.031898,
     "end_time": "2023-02-02T14:12:09.853755",
     "exception": false,
     "start_time": "2023-02-02T14:12:09.821857",
     "status": "completed"
    },
    "tags": []
   },
   "outputs": [
    {
     "data": {
      "text/plain": [
       "-0.057199642400537876"
      ]
     },
     "execution_count": 21,
     "metadata": {},
     "output_type": "execute_result"
    }
   ],
   "source": [
    "svr = SVR()\n",
    "svr.fit(x_train, y_train)\n",
    "svr.score(x_test, y_test)"
   ]
  },
  {
   "cell_type": "markdown",
   "id": "0149d89d",
   "metadata": {
    "papermill": {
     "duration": 0.014185,
     "end_time": "2023-02-02T14:12:09.882697",
     "exception": false,
     "start_time": "2023-02-02T14:12:09.868512",
     "status": "completed"
    },
    "tags": []
   },
   "source": [
    "# 3.Decision Tree"
   ]
  },
  {
   "cell_type": "code",
   "execution_count": 22,
   "id": "0c5b6327",
   "metadata": {
    "execution": {
     "iopub.execute_input": "2023-02-02T14:12:09.914582Z",
     "iopub.status.busy": "2023-02-02T14:12:09.914193Z",
     "iopub.status.idle": "2023-02-02T14:12:09.923676Z",
     "shell.execute_reply": "2023-02-02T14:12:09.922508Z"
    },
    "papermill": {
     "duration": 0.028658,
     "end_time": "2023-02-02T14:12:09.926082",
     "exception": false,
     "start_time": "2023-02-02T14:12:09.897424",
     "status": "completed"
    },
    "tags": []
   },
   "outputs": [
    {
     "data": {
      "text/plain": [
       "0.9438876957187609"
      ]
     },
     "execution_count": 22,
     "metadata": {},
     "output_type": "execute_result"
    }
   ],
   "source": [
    "dt = DecisionTreeRegressor()\n",
    "dt.fit(x_train, y_train)\n",
    "dt.score(x_test, y_test)"
   ]
  },
  {
   "cell_type": "markdown",
   "id": "83caeeea",
   "metadata": {
    "papermill": {
     "duration": 0.01437,
     "end_time": "2023-02-02T14:12:09.955306",
     "exception": false,
     "start_time": "2023-02-02T14:12:09.940936",
     "status": "completed"
    },
    "tags": []
   },
   "source": [
    "# 4.Random Forest"
   ]
  },
  {
   "cell_type": "code",
   "execution_count": 23,
   "id": "763fd016",
   "metadata": {
    "execution": {
     "iopub.execute_input": "2023-02-02T14:12:09.988911Z",
     "iopub.status.busy": "2023-02-02T14:12:09.988445Z",
     "iopub.status.idle": "2023-02-02T14:12:10.151545Z",
     "shell.execute_reply": "2023-02-02T14:12:10.150023Z"
    },
    "papermill": {
     "duration": 0.183868,
     "end_time": "2023-02-02T14:12:10.154275",
     "exception": false,
     "start_time": "2023-02-02T14:12:09.970407",
     "status": "completed"
    },
    "tags": []
   },
   "outputs": [
    {
     "data": {
      "text/plain": [
       "0.9362665908023262"
      ]
     },
     "execution_count": 23,
     "metadata": {},
     "output_type": "execute_result"
    }
   ],
   "source": [
    "rf = RandomForestRegressor()\n",
    "rf.fit(x_train, y_train)\n",
    "rf.score(x_test, y_test)"
   ]
  },
  {
   "cell_type": "markdown",
   "id": "19bc351d",
   "metadata": {
    "papermill": {
     "duration": 0.014455,
     "end_time": "2023-02-02T14:12:10.184052",
     "exception": false,
     "start_time": "2023-02-02T14:12:10.169597",
     "status": "completed"
    },
    "tags": []
   },
   "source": [
    "# calculating diffferent regresstion metrics"
   ]
  },
  {
   "cell_type": "code",
   "execution_count": 24,
   "id": "6560823f",
   "metadata": {
    "execution": {
     "iopub.execute_input": "2023-02-02T14:12:10.216135Z",
     "iopub.status.busy": "2023-02-02T14:12:10.215662Z",
     "iopub.status.idle": "2023-02-02T14:12:10.223539Z",
     "shell.execute_reply": "2023-02-02T14:12:10.221858Z"
    },
    "papermill": {
     "duration": 0.027891,
     "end_time": "2023-02-02T14:12:10.226713",
     "exception": false,
     "start_time": "2023-02-02T14:12:10.198822",
     "status": "completed"
    },
    "tags": []
   },
   "outputs": [
    {
     "name": "stdout",
     "output_type": "stream",
     "text": [
      "R2 score of model(variance ) is : 93.21346390789374\n"
     ]
    }
   ],
   "source": [
    "from sklearn.metrics import r2_score\n",
    "\n",
    "r2Score = r2_score(y_pred, y_test)\n",
    "print(\"R2 score of model(variance ) is :\" ,r2Score*100)"
   ]
  },
  {
   "cell_type": "code",
   "execution_count": 25,
   "id": "6068ede0",
   "metadata": {
    "execution": {
     "iopub.execute_input": "2023-02-02T14:12:10.260696Z",
     "iopub.status.busy": "2023-02-02T14:12:10.260248Z",
     "iopub.status.idle": "2023-02-02T14:12:10.268404Z",
     "shell.execute_reply": "2023-02-02T14:12:10.266701Z"
    },
    "papermill": {
     "duration": 0.02872,
     "end_time": "2023-02-02T14:12:10.271415",
     "exception": false,
     "start_time": "2023-02-02T14:12:10.242695",
     "status": "completed"
    },
    "tags": []
   },
   "outputs": [
    {
     "name": "stdout",
     "output_type": "stream",
     "text": [
      "Mean Squarred Error is : 6524519362.31741\n"
     ]
    }
   ],
   "source": [
    "\n",
    "from sklearn.metrics import mean_squared_error\n",
    "\n",
    "mse = mean_squared_error(y_pred, y_test)\n",
    "print(\"Mean Squarred Error is :\" ,mse*100)\n"
   ]
  },
  {
   "cell_type": "code",
   "execution_count": 26,
   "id": "eb5731ee",
   "metadata": {
    "execution": {
     "iopub.execute_input": "2023-02-02T14:12:10.305423Z",
     "iopub.status.busy": "2023-02-02T14:12:10.304615Z",
     "iopub.status.idle": "2023-02-02T14:12:10.312085Z",
     "shell.execute_reply": "2023-02-02T14:12:10.310540Z"
    },
    "papermill": {
     "duration": 0.027483,
     "end_time": "2023-02-02T14:12:10.314331",
     "exception": false,
     "start_time": "2023-02-02T14:12:10.286848",
     "status": "completed"
    },
    "tags": []
   },
   "outputs": [
    {
     "name": "stdout",
     "output_type": "stream",
     "text": [
      "Root Mean Squarred Error is :  807744.969796619\n"
     ]
    }
   ],
   "source": [
    "\n",
    "rmse = np.sqrt(mean_squared_error(y_pred, y_test))\n",
    "print(\"Root Mean Squarred Error is : \",rmse*100)\n"
   ]
  },
  {
   "cell_type": "code",
   "execution_count": 27,
   "id": "414a7389",
   "metadata": {
    "execution": {
     "iopub.execute_input": "2023-02-02T14:12:10.347795Z",
     "iopub.status.busy": "2023-02-02T14:12:10.346289Z",
     "iopub.status.idle": "2023-02-02T14:12:10.353911Z",
     "shell.execute_reply": "2023-02-02T14:12:10.352340Z"
    },
    "papermill": {
     "duration": 0.027705,
     "end_time": "2023-02-02T14:12:10.357084",
     "exception": false,
     "start_time": "2023-02-02T14:12:10.329379",
     "status": "completed"
    },
    "tags": []
   },
   "outputs": [
    {
     "name": "stdout",
     "output_type": "stream",
     "text": [
      "Mean Absolute Error is : 6603.2386289610795\n"
     ]
    }
   ],
   "source": [
    "from sklearn.metrics import mean_absolute_error\n",
    "mae = mean_absolute_error(y_pred,y_test)\n",
    "print(\"Mean Absolute Error is :\" ,mae)"
   ]
  },
  {
   "cell_type": "markdown",
   "id": "23ddf938",
   "metadata": {
    "papermill": {
     "duration": 0.014684,
     "end_time": "2023-02-02T14:12:10.387630",
     "exception": false,
     "start_time": "2023-02-02T14:12:10.372946",
     "status": "completed"
    },
    "tags": []
   },
   "source": [
    "# For The given data the best accuracy given by random forest with a accuracy of 94.5%"
   ]
  },
  {
   "cell_type": "markdown",
   "id": "33080f3c",
   "metadata": {
    "papermill": {
     "duration": 0.014351,
     "end_time": "2023-02-02T14:12:10.416806",
     "exception": false,
     "start_time": "2023-02-02T14:12:10.402455",
     "status": "completed"
    },
    "tags": []
   },
   "source": [
    "# our prefered model is random forest"
   ]
  },
  {
   "cell_type": "code",
   "execution_count": 28,
   "id": "92d76c44",
   "metadata": {
    "execution": {
     "iopub.execute_input": "2023-02-02T14:12:10.449517Z",
     "iopub.status.busy": "2023-02-02T14:12:10.448004Z",
     "iopub.status.idle": "2023-02-02T14:12:10.455493Z",
     "shell.execute_reply": "2023-02-02T14:12:10.453910Z"
    },
    "papermill": {
     "duration": 0.025607,
     "end_time": "2023-02-02T14:12:10.457292",
     "exception": true,
     "start_time": "2023-02-02T14:12:10.431685",
     "status": "failed"
    },
    "tags": []
   },
   "outputs": [
    {
     "ename": "SyntaxError",
     "evalue": "invalid syntax (3814477988.py, line 2)",
     "output_type": "error",
     "traceback": [
      "\u001b[0;36m  File \u001b[0;32m\"/tmp/ipykernel_19/3814477988.py\"\u001b[0;36m, line \u001b[0;32m2\u001b[0m\n\u001b[0;31m    seaborn                            0.11.2\u001b[0m\n\u001b[0m                                          ^\u001b[0m\n\u001b[0;31mSyntaxError\u001b[0m\u001b[0;31m:\u001b[0m invalid syntax\n"
     ]
    }
   ],
   "source": [
    "# library version\n",
    "seaborn                            0.11.2\n",
    "pandas                             1.3.4\n",
    "numpy                              1.20.3\n",
    "matplotlib                         3.4.3\n",
    "scikit-learn                       0.24.2\n"
   ]
  }
 ],
 "metadata": {
  "kernelspec": {
   "display_name": "Python 3",
   "language": "python",
   "name": "python3"
  },
  "language_info": {
   "codemirror_mode": {
    "name": "ipython",
    "version": 3
   },
   "file_extension": ".py",
   "mimetype": "text/x-python",
   "name": "python",
   "nbconvert_exporter": "python",
   "pygments_lexer": "ipython3",
   "version": "3.7.12"
  },
  "papermill": {
   "default_parameters": {},
   "duration": 19.101876,
   "end_time": "2023-02-02T14:12:11.497012",
   "environment_variables": {},
   "exception": true,
   "input_path": "__notebook__.ipynb",
   "output_path": "__notebook__.ipynb",
   "parameters": {},
   "start_time": "2023-02-02T14:11:52.395136",
   "version": "2.3.4"
  }
 },
 "nbformat": 4,
 "nbformat_minor": 5
}
